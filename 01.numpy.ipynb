{
 "cells": [
  {
   "cell_type": "code",
   "execution_count": null,
   "metadata": {},
   "outputs": [],
   "source": [
    "# cell 이라고 불러요!!\n",
    "# a key : 현재 cell 위쪽에 새로운 cell을 생성해요!\n",
    "# b key : 현재 cell 아래쪽에 새로운 cell을 생성해요!\n",
    "# d d key : 현재 cell을 삭제\n",
    "# control + enter : 현재 cell을 실행 !\n",
    "\n",
    "# NumPy\n",
    "# NumPy : Numerical Python\n",
    "# NumPy는 vector와 mertix 연산에 특화되어 있어요!\n",
    "# NumPy : Pandas와 Matplolib의 기반이 되는 module\n",
    "#         machine learning, deep learning에서 많이 사용돼요!\n",
    "\n",
    "# NumPy는 ndarray라고 불리는 n-차원의 배열을 제공! \n",
    "\n",
    "# ndarray의 특징 : python의 list와 상당히 유사\n",
    "#                  python의 list는 다른 데이터 타입을 같이 list안에 저장이 가능!\n",
    "#                  NumPy의 ndarray는 모두 같은 데이터 타입을 사용해야 해요!\n",
    "#                  Python의 list보다 메모리 효율이나 실행속도면에서 우위..\n",
    "\n",
    "# numpy module을 설치하고 진행해야 해요!\n",
    "# m1) pip install numpy\n",
    "# m2) conda install numpy  ***아나콘다 이용*** 주피터노트북 실행중인창에 말고 새로운 창"
   ]
  },
  {
   "cell_type": "code",
   "execution_count": 12,
   "metadata": {},
   "outputs": [
    {
     "name": "stdout",
     "output_type": "stream",
     "text": [
      "[1, 2, 3, 4, 5]\n",
      "<class 'list'>\n",
      "[1 2 3 4 5]\n",
      "<class 'numpy.ndarray'>\n",
      "int32\n",
      "1\n",
      "<class 'numpy.int32'>\n",
      "['100' '3.14' 'True' 'Hello']\n"
     ]
    }
   ],
   "source": [
    "import numpy as np\n",
    "\n",
    "\n",
    "# python의 list 부터 살펴보아요!\n",
    "a = [1, 2, 3, 4, 5] # python list\n",
    "print(a)            # [1, 2, 3, 4, 5] ==> list literal\n",
    "print(type(a))      # <class 'list'>\n",
    "\n",
    "\n",
    "# Numpy의 ndarray라고 불리는 놈을 만들어 보아요!\n",
    "arr = np.array([1, 2, 3, 4, 5])\n",
    "print(arr)           # [1 2 3 4 5] ==> ndarray의 literal\n",
    "print(type(arr))     # <class 'numpy.ndarray'>  ->'모듈.클래스'\n",
    "print(arr.dtype)     # int32 (int:정수, 32:32bit)\n",
    "print(arr[0])        # 1 => class 'int'\n",
    "print(type(arr[0]))  # <class 'numpy.int32'>\n",
    "\n",
    "arr = np.array([100, 3.14, True,'Hello'])\n",
    "print(arr)           # ['100' '3.14' 'True' 'Hello']\n"
   ]
  },
  {
   "cell_type": "code",
   "execution_count": 2,
   "metadata": {},
   "outputs": [
    {
     "name": "stdout",
     "output_type": "stream",
     "text": [
      "[[1 2 3]\n",
      " [4 5 6]]\n",
      "5\n",
      "[[1. 2. 3.]\n",
      " [4. 5. 6.]]\n"
     ]
    }
   ],
   "source": [
    "# 다차원 ndarray를 만들어 보아요!\n",
    "# python의 list는 중첩리스트만 존재해요! (리스트 in 리스트)\n",
    "\n",
    "import numpy as np\n",
    "\n",
    "a = [[1,2,3],\n",
    "     [4,5,6]]\n",
    "\n",
    "arr = np.array(a)\n",
    "print(arr)         # [[1 2 3]\n",
    "                   #  [4 5 6]]  -> 2차원을 그대로 표현\n",
    "\n",
    "print(arr[1,1])    # 5 (1행1열 인덱싱)\n",
    "\n",
    "arr = np.array(a, dtype=np.float64)\n",
    "print(arr)         # [[1. 2. 3.]\n",
    "                   #  [4. 5. 6.]]"
   ]
  },
  {
   "cell_type": "code",
   "execution_count": 31,
   "metadata": {},
   "outputs": [
    {
     "name": "stdout",
     "output_type": "stream",
     "text": [
      "[1. 2. 3. 4.]\n",
      "1\n",
      "(4,)\n",
      "[[ 1.  2.  3.]\n",
      " [ 4.  5.  6.]\n",
      " [ 7.  8.  9.]\n",
      " [10. 11. 12.]]\n",
      "(4, 3)\n",
      "[[[ 1.  2.  3.]\n",
      "  [ 4.  5.  6.]]\n",
      "\n",
      " [[ 7.  8.  9.]\n",
      "  [10. 11. 12.]]]\n",
      "(2, 2, 3)\n"
     ]
    }
   ],
   "source": [
    "# ndarray의 차원 관련 속성을 알아보아요!!\n",
    "\n",
    "a = [1, 2, 3, 4]\n",
    "\n",
    "arr = np.array(a, dtype=np.float64)\n",
    "print(arr)\n",
    "\n",
    "print(arr.ndim)   # ndim(number + demension) => 차원의 개수 : 1\n",
    "print(arr.shape)  # shape => 차원의 개수와 각 차원의 요소를 tuple로 표현\n",
    "                  # (4,) => 차원은 1차원이라 요소가 1개, 데이터가 4개 있음\n",
    "    \n",
    "a = [[1,2,3],\n",
    "     [4,5,6],\n",
    "     [7,8,9],\n",
    "     [10,11,12]]\n",
    "\n",
    "arr = np.array(a, dtype=np.float64)\n",
    "print(arr)\n",
    "print(arr.shape)  # (4, 3)\n",
    "\n",
    "## 3차원 중첩 리스트를 만들어 보아요!!!\n",
    "## ndarray를 생성한 후 shape을 출력하면 => (2,2,3) 나오도록 list를 작성해보아요!\n",
    "\n",
    "a = [[[1,2,3],[4,5,6]],[[7,8,9],[10,11,12]]]\n",
    "arr = np.array(a, dtype=np.float64)\n",
    "print(arr)\n",
    "print(arr.shape)"
   ]
  },
  {
   "cell_type": "code",
   "execution_count": 40,
   "metadata": {
    "scrolled": false
   },
   "outputs": [
    {
     "name": "stdout",
     "output_type": "stream",
     "text": [
      "[[ 1.  2.  3.]\n",
      " [ 4.  5.  6.]\n",
      " [ 7.  8.  9.]\n",
      " [10. 11. 12.]]\n",
      "12\n",
      "4\n",
      "(4, 3)\n",
      "[[ 1.  2.  3.  4.  5.  6.]\n",
      " [ 7.  8.  9. 10. 11. 12.]]\n",
      "[[[ 1.  2.]\n",
      "  [ 3.  4.]]\n",
      "\n",
      " [[ 5.  6.]\n",
      "  [ 7.  8.]]\n",
      "\n",
      " [[ 9. 10.]\n",
      "  [11. 12.]]]\n"
     ]
    },
    {
     "ename": "ValueError",
     "evalue": "cannot reshape array of size 12 into shape (3,2,3)",
     "output_type": "error",
     "traceback": [
      "\u001b[1;31m---------------------------------------------------------------------------\u001b[0m",
      "\u001b[1;31mValueError\u001b[0m                                Traceback (most recent call last)",
      "\u001b[1;32m<ipython-input-40-3119f3d9e463>\u001b[0m in \u001b[0;36m<module>\u001b[1;34m\u001b[0m\n\u001b[0;32m     17\u001b[0m \u001b[0mprint\u001b[0m\u001b[1;33m(\u001b[0m\u001b[0marr\u001b[0m\u001b[1;33m)\u001b[0m\u001b[1;33m\u001b[0m\u001b[1;33m\u001b[0m\u001b[0m\n\u001b[0;32m     18\u001b[0m \u001b[1;33m\u001b[0m\u001b[0m\n\u001b[1;32m---> 19\u001b[1;33m \u001b[0marr\u001b[0m\u001b[1;33m.\u001b[0m\u001b[0mshape\u001b[0m \u001b[1;33m=\u001b[0m \u001b[1;33m(\u001b[0m\u001b[1;36m3\u001b[0m\u001b[1;33m,\u001b[0m \u001b[1;36m2\u001b[0m\u001b[1;33m,\u001b[0m \u001b[1;36m3\u001b[0m\u001b[1;33m)\u001b[0m\u001b[1;33m\u001b[0m\u001b[1;33m\u001b[0m\u001b[0m\n\u001b[0m\u001b[0;32m     20\u001b[0m \u001b[0mprint\u001b[0m\u001b[1;33m(\u001b[0m\u001b[0marr\u001b[0m\u001b[1;33m)\u001b[0m\u001b[1;33m\u001b[0m\u001b[1;33m\u001b[0m\u001b[0m\n",
      "\u001b[1;31mValueError\u001b[0m: cannot reshape array of size 12 into shape (3,2,3)"
     ]
    }
   ],
   "source": [
    "# numpy array(ndarray)의 크기를 알아보아요!\n",
    "\n",
    "a = [[1,2,3],[4,5,6],[7,8,9],[10,11,12]]  # 4 x 3\n",
    "\n",
    "arr = np.array(a, dtype=np.float64)  # 4 x 3\n",
    "print(arr)\n",
    "print(arr.size)   # 12 (현재 가지고 있는 데이터 개수)\n",
    "print(len(arr))   # 첫번째 차원의 요소 개수를 리턴\n",
    "                  # 4\n",
    "    \n",
    "print(arr.shape)         # (4, 3)\n",
    "\n",
    "arr.shape = (2, 6)       # shape 바꿔주기\n",
    "print(arr)\n",
    "\n",
    "arr.shape = (3, 2, 2)    # (면,행,열)\n",
    "print(arr)\n",
    "\n",
    "arr.shape = (3, 2, 3)\n",
    "print(arr)               # ValueError\n",
    "\n",
    "# numpy array는 shape을 내가 원하는 식으로 변경할 수 있어요!!\n",
    "# shape 속성을 이용해서 변경하는 예제를 진행\n",
    "# shape 속성을 이용해서 변경하는 방식은 잘 사용하지 않아요!!\n",
    "# shape을 변경하기 위해서는 .. reshape() 함수를 이용!! \n"
   ]
  },
  {
   "cell_type": "code",
   "execution_count": 5,
   "metadata": {},
   "outputs": [
    {
     "name": "stdout",
     "output_type": "stream",
     "text": [
      "[1.5 2.3 8.3 9.8 7.7]\n",
      "[1 2 8 9 7]\n",
      "int32\n"
     ]
    }
   ],
   "source": [
    "# ndarray을 생성할 때 dtype을 지정해서 만들어요!\n",
    "# ndarray의 데이터 타입을 변경하려면 어떻게 해야 하나요??\n",
    "\n",
    "import numpy as np\n",
    "\n",
    "arr = np.array([1.5, 2.3, 8.3, 9.8, 7.7], dtype=np.float64)\n",
    "print(arr)\n",
    "\n",
    "result = arr.astype(np.int32)   # 소수점 이하 버림, 반올림X\n",
    "print(result)                   # [1 2 8 9 7]\n",
    "print(result.dtype)             # int32\n"
   ]
  },
  {
   "cell_type": "code",
   "execution_count": 23,
   "metadata": {},
   "outputs": [
    {
     "name": "stdout",
     "output_type": "stream",
     "text": [
      "[[0. 0. 0.]\n",
      " [0. 0. 0.]]\n",
      "[[1. 1. 1.]\n",
      " [1. 1. 1.]]\n"
     ]
    }
   ],
   "source": [
    "# ndarray를 생성할 때 python의 list를 이용해서 만들었어요 !!\n",
    "# ndarray를 만드는 여러가지 방법이 존재 !!\n",
    "\n",
    "import numpy as np\n",
    "\n",
    "arr = np.zeros((3,4))   # 0으로 채운 numpy array를 만들어요 !\n",
    "                        # shape을 명시해야 해요 !\n",
    "                        # dtype은 np.float64로 지정\n",
    "# print(arr)\n",
    "\n",
    "arr = np.ones((2,5))    # 1로 채운 numpy array를 만들어요 !!\n",
    "\n",
    "# print(arr)\n",
    "\n",
    "arr = np.full((3,5),7, dtype=np.float64)\n",
    "\n",
    "# print(arr)\n",
    "\n",
    "arr = np.empty((3,3))   # 3 x 3 ndarray를 생성하는데. . 초기값을 주지 않는다.\n",
    "                        # 내가 원하는 shape의 공간만 설정\n",
    "\n",
    "# print(arr)\n",
    "\n",
    "#########################\n",
    "\n",
    "arr = np.array([(1,2,3),(4,5,6)])\n",
    "\n",
    "# print(arr)\n",
    "\n",
    "## once , zeros, full, empty 이런 함수들과 상당히 유사한 함수를 이용\n",
    "\n",
    "result = np.zeros_like(arr, dtype=np.float64)\n",
    "\n",
    "print(result)\n",
    "\n",
    "result = np.ones_like(arr, dtype=np.float64)\n",
    "\n",
    "print(result)"
   ]
  },
  {
   "cell_type": "code",
   "execution_count": 24,
   "metadata": {},
   "outputs": [
    {
     "name": "stdout",
     "output_type": "stream",
     "text": [
      "range(1, 10)\n",
      "[1 2 3 4 5 6 7 8 9]\n"
     ]
    }
   ],
   "source": [
    "# ndarray를 만드는 다른 방법 - arange\n",
    "\n",
    "# python의 range와 상당히 유사\n",
    "# 주어진 범위 내에서 지정한 간격으로 연속적인 원소를 가진 ndarray를 생성\n",
    "\n",
    "a = range(1,10,1)\n",
    "print(a)\n",
    "\n",
    "arr = np.arange(1,10,1)\n",
    "print(arr)"
   ]
  },
  {
   "cell_type": "code",
   "execution_count": 35,
   "metadata": {},
   "outputs": [
    {
     "name": "stdout",
     "output_type": "stream",
     "text": [
      "[ 0.          0.83333333  1.66666667  2.5         3.33333333  4.16666667\n",
      "  5.          5.83333333  6.66666667  7.5         8.33333333  9.16666667\n",
      " 10.        ]\n",
      "[  1.   5.   9.  13.  17.  21.  25.  29.  33.  37.  41.  45.  49.  53.\n",
      "  57.  61.  65.  69.  73.  77.  81.  85.  89.  93.  97. 101. 105. 109.\n",
      " 113. 117. 121.]\n"
     ]
    },
    {
     "data": {
      "image/png": "[encoded data removed]",
      "text/plain": [
       "<Figure size 432x288 with 1 Axes>"
      ]
     },
     "metadata": {
      "needs_background": "light"
     },
     "output_type": "display_data"
    }
   ],
   "source": [
    "# ndarray를 만드는 다른 방법 - linspace\n",
    "# linspace 기능을 확인하기 위해서 그래프로 데이터를 그려볼거에요 !\n",
    "# matplotlib module, seaborn\n",
    "\n",
    "import numpy as np\n",
    "import matplotlib.pyplot as plt\n",
    "\n",
    "# np.linspace(start. stop. num)\n",
    "# start부터 시작해서 stop의 범위에서 num개의 숫자를 균일한 간격으로 데이터를\n",
    "# 생성해서 ndarray를 만드는 함수.\n",
    "\n",
    "arr = np.linspace(0,10,13)\n",
    "print(arr)\n",
    "\n",
    "arr = np.linspace(1,121,31)\n",
    "# 원소간의 간격은(stop-start) / (num - 1)\n",
    "# 120 /30 =>4\n",
    "# [1,5,9 ....]\n",
    "print(arr)\n",
    "\n",
    "plt.plot(arr, \"*\")\n",
    "plt.show()"
   ]
  },
  {
   "cell_type": "code",
   "execution_count": 32,
   "metadata": {},
   "outputs": [
    {
     "name": "stdout",
     "output_type": "stream",
     "text": [
      "[0.4578449  0.06742754 0.92275946 ... 0.26236279 0.29054801 0.98988541]\n"
     ]
    },
    {
     "data": {
      "image/png": "[encoded data removed]",
      "text/plain": [
       "<Figure size 432x288 with 1 Axes>"
      ]
     },
     "metadata": {
      "needs_background": "light"
     },
     "output_type": "display_data"
    }
   ],
   "source": [
    "# ndarray를 생성할 때 랜덤값 기반으로 생성할 수 있어요 !\n",
    "# 총 5가지 방법으로 ndarray를 생성할 수 있어요 ! \n",
    "\n",
    "# 1. np.randon.normal() : 정규분포 확률밀도함수에서 실수 표본을 추출해서 ndarray생성\n",
    "#                         평균, 표준편차\n",
    "\n",
    "# import numpy as np\n",
    "# import matplotlib.pyplot as plt\n",
    "\n",
    "\n",
    "# mean = 50\n",
    "# std = 2\n",
    "# arr = np.random.normal(mean,std,(100000,))\n",
    "# print(arr)\n",
    "# plt.hist(arr,bins=100)\n",
    "# plt.show()\n",
    "\n",
    "# 2 . np.random.rand(d0, d1, d2...) : 실수를 추출하는데 [0,1) 0이상 1미만 ,범위에서 추출\n",
    "#             균등분포로 추출\n",
    "# arr = np.random.rand(100000)\n",
    "# print(arr)\n",
    "# plt.hist(arr, bins=100)\n",
    "# plt.show()\n",
    "\n",
    "# 3. np.random.randn(d0, d1,d2 ...) : 실수 추출, 표준정규분포에서 난수를 추출\n",
    "#                                     평균이 0 , 표준편차 1\n",
    "# arr = np.random.randn(100000)\n",
    "# print(arr)\n",
    "# plt.hist(arr, bins=100)\n",
    "# plt.show()\n",
    "\n",
    "# 4. np.random.randint(low, high, shape) : 균등분포 확률밀도함수에서 난수를\n",
    "#                                          추출하는데 정수값을 난수로 추출\n",
    "\n",
    "# arr = np.random.randint(-100,100,(100000,))\n",
    "# # print(arr)\n",
    "# plt.hist(arr, bins=100)\n",
    "# plt.show()\n",
    "\n",
    "# 5. np.random.random(shape) : [0,1) 균등분포에서 실수 난수를 추출 !!\n",
    "\n",
    "# arr = np.random.random((100000,))\n",
    "# print(arr)\n",
    "# plt.hist(arr, bins=100)\n",
    "# plt.show()"
   ]
  },
  {
   "cell_type": "code",
   "execution_count": 45,
   "metadata": {},
   "outputs": [
    {
     "name": "stdout",
     "output_type": "stream",
     "text": [
      "[3 3 3 0 3 0 3 0 2 3]\n"
     ]
    }
   ],
   "source": [
    "# Numpy가 제공하는 랜덤 관련 함수\n",
    "\n",
    "# 1. 난수의 재현\n",
    "#    랜덤값도 실제로는 특정 알고리즘의 결과물 , 초기에 시작값을 설정해주면\n",
    "#    항상 같은 랜덤값이 도출 \n",
    "\n",
    "import numpy as np\n",
    "import matplotlib.pyplot as plt\n",
    "# np.random.seed(10)\n",
    "# arr = np.random.randint(0,100,(10,))\n",
    "# print(arr)\n",
    "\n",
    "# 2. ndarray의 순서를 랜덤하게 바꿀려면 어떻게 해야 하나요?\n",
    "\n",
    "# arr = np.arange(10)\n",
    "# print(arr)\n",
    "# np.random.shuffle(arr) # ndarray 자체가 변형되요 !\n",
    "# print(arr)\n",
    "\n",
    "# 3. ndarray 안에서 일부를 무작위로 선택하는 기능 sampling기능을 수행하려면\n",
    "#    choice() 함수를 이용하면 되요 !\n",
    "\n",
    "# np.random.choice(arr, size, replace, p)\n",
    "\n",
    "# arr : numpy array가 나오거나 정수가 나올수 있어요 ! 만약 정수면\n",
    "#       arange(정수)\\\n",
    "\n",
    "# size : 정수값 샘플의 숫자\n",
    "# replace : Boolean(True,False)\n",
    "#             True : 한번 선택한 데이터를 다시 샘플링 할 수 있어요 !\n",
    "# p : ndarray. 각 데이터가 샘플링 될 확률을 가지고 있는 ndarray\n",
    "\n",
    "# arr = np.random.choice(5,3,replace=True)\n",
    "# arr = np.random.choice(5,5,replace=False)\n",
    "\n",
    "# print(arr)\n",
    "                    #[0 1 2 3 4]\n",
    "arr = np.random.choice(5, 10, replace=True, p=[0.2, 0.0, 0.3, 0.4, 0.1])\n",
    "print(arr)\n",
    " "
   ]
  },
  {
   "cell_type": "code",
   "execution_count": 53,
   "metadata": {},
   "outputs": [
    {
     "name": "stdout",
     "output_type": "stream",
     "text": [
      "[[ 0  1  2  3  4  5]\n",
      " [ 6  7  8  9 10 11]]\n"
     ]
    }
   ],
   "source": [
    "# ndarray는 shape를 가지고 있어요 !\n",
    "# shape 속성의 값을 바꾸어서 ndarray의 형태를 변경하는 것은 그다지 좋지 않아요 !\n",
    "# reshape() 함수를 이용해서 처리를 합니다 !!\n",
    "\n",
    "import numpy as np\n",
    "\n",
    "# arr = np.arange(0,12,1)\n",
    "\n",
    "# arr1 = arr.reshape(4,3)        # 새로운 ndarray를 만드는게 아니라 View를 생성\n",
    "\n",
    "# print(arr)\n",
    "# print(arr1)\n",
    "\n",
    "# arr[0]=100\n",
    "# print(arr)\n",
    "# # print(arr1)\n",
    "# arr = np.arange(0,12,1)\n",
    "# arr1 = arr.reshape(2,2,-1)     # -1 의 의미는 알아서 계산해서 넣어주란 뜻\n",
    "# print(arr1)\n",
    "arr = np.arange(0,12,1)\n",
    "arr1 = arr.reshape(2,6).copy() # View가 아니라 진짜 shape를 바꾼 ndarray를 만드려면?\n"
   ]
  },
  {
   "cell_type": "code",
   "execution_count": 1,
   "metadata": {},
   "outputs": [
    {
     "ename": "NameError",
     "evalue": "name 'np' is not defined",
     "output_type": "error",
     "traceback": [
      "\u001b[0;31m---------------------------------------------------------------------------\u001b[0m",
      "\u001b[0;31mNameError\u001b[0m                                 Traceback (most recent call last)",
      "\u001b[0;32m<ipython-input-1-17f9b0523b1e>\u001b[0m in \u001b[0;36m<module>\u001b[0;34m\u001b[0m\n\u001b[1;32m      4\u001b[0m \u001b[0;31m# ravel(): ndarray의 모든 요소가 포함된 1차원 vector를 리턴 !\u001b[0m\u001b[0;34m\u001b[0m\u001b[0;34m\u001b[0m\u001b[0;34m\u001b[0m\u001b[0m\n\u001b[1;32m      5\u001b[0m \u001b[0;31m#          View를 리턴 !\u001b[0m\u001b[0;34m\u001b[0m\u001b[0;34m\u001b[0m\u001b[0;34m\u001b[0m\u001b[0m\n\u001b[0;32m----> 6\u001b[0;31m \u001b[0marr\u001b[0m \u001b[0;34m=\u001b[0m \u001b[0mnp\u001b[0m\u001b[0;34m.\u001b[0m\u001b[0marange\u001b[0m\u001b[0;34m(\u001b[0m\u001b[0;36m0\u001b[0m\u001b[0;34m,\u001b[0m\u001b[0;36m100\u001b[0m\u001b[0;34m,\u001b[0m\u001b[0;36m1\u001b[0m\u001b[0;34m)\u001b[0m\u001b[0;34m.\u001b[0m\u001b[0mreshape\u001b[0m\u001b[0;34m(\u001b[0m\u001b[0;36m5\u001b[0m\u001b[0;34m,\u001b[0m\u001b[0;34m-\u001b[0m\u001b[0;36m1\u001b[0m\u001b[0;34m)\u001b[0m\u001b[0;34m.\u001b[0m\u001b[0mcopy\u001b[0m\u001b[0;34m(\u001b[0m\u001b[0;34m)\u001b[0m\u001b[0;34m\u001b[0m\u001b[0;34m\u001b[0m\u001b[0m\n\u001b[0m\u001b[1;32m      7\u001b[0m \u001b[0;31m# print(arr)\u001b[0m\u001b[0;34m\u001b[0m\u001b[0;34m\u001b[0m\u001b[0;34m\u001b[0m\u001b[0m\n\u001b[1;32m      8\u001b[0m \u001b[0mprint\u001b[0m\u001b[0;34m(\u001b[0m\u001b[0marr\u001b[0m\u001b[0;34m)\u001b[0m\u001b[0;34m\u001b[0m\u001b[0;34m\u001b[0m\u001b[0m\n",
      "\u001b[0;31mNameError\u001b[0m: name 'np' is not defined"
     ]
    }
   ],
   "source": [
    "# ndarray의 shape 조절 함수\n",
    "# reshape()을 이용해서 shape를 조절할 수 있어요 !\n",
    "\n",
    "# ravel(): ndarray의 모든 요소가 포함된 1차원 vector를 리턴 !\n",
    "#          View를 리턴 ! \n",
    "arr = np.arange(0,100,1).reshape(5,-1).copy()\n",
    "# print(arr)\n",
    "print(arr)\n",
    "arr1 = arr.ravel()\n"
   ]
  },
  {
   "cell_type": "code",
   "execution_count": null,
   "metadata": {},
   "outputs": [],
   "source": [
    "# 9월 7일(월요일)\n",
    "\n",
    "# Numpy 2번째 시간 !!"
   ]
  }
 ],
 "metadata": {
  "kernelspec": {
   "display_name": "Python [conda env:data_env] *",
   "language": "python",
   "name": "conda-env-data_env-py"
  },
  "language_info": {
   "codemirror_mode": {
    "name": "ipython",
    "version": 3
   },
   "file_extension": ".py",
   "mimetype": "text/x-python",
   "name": "python",
   "nbconvert_exporter": "python",
   "pygments_lexer": "ipython3",
   "version": "3.7.9"
  }
 },
 "nbformat": 4,
 "nbformat_minor": 4
}
