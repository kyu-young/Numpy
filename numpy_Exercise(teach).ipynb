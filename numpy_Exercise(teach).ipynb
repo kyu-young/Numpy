{
 "cells": [
  {
   "cell_type": "code",
   "execution_count": 21,
   "metadata": {},
   "outputs": [
    {
     "name": "stdout",
     "output_type": "stream",
     "text": [
      "758\n",
      "39.6\n",
      "[False False False ... False False False]\n",
      "['2018-08-01']\n"
     ]
    }
   ],
   "source": [
    "# 1-1\n",
    "# 기상 관측 아래 , 서울의 최고 기온이 가장 높았던 날은 언제이고 몇도인가요?\n",
    "\n",
    "# 데이터분석을 진행할 때 데이터의 전처리가 진행되어야 해요 !\n",
    "# 결측치 처리와 이상치 처리를 해야 해요 !\n",
    "# 결측치 처리 : raw 데이터는 문제의 소지가 있을 수 있어요 !\n",
    "#            데이터가 없는 경우를 의미\n",
    "#            삭제 ...평균.. 최고.. 최저 이런값으로 대체\n",
    "# 이상치 처리 : 데이터는 존재하는데 정상 범위가 아닌 데이터를 지칭\n",
    "#            삭제 , 다른값으로 대체\n",
    "\n",
    "import numpy as np\n",
    "\n",
    "arr = np.loadtxt(\"/Users/mac/notebook_dir/data/seoul.csv\",\n",
    "                  dtype=np.object,delimiter=',',skiprows=1 ,encoding='CP949')\n",
    "\n",
    "# print(arr)\n",
    "# print(arr.shape)\n",
    "# 최고 온도가 얼마지 ???\n",
    "# 일단 최고 온도가 얼마인지 알아내면 boolean indexing으로 최고 온도의 날짜를\n",
    "# 가져올 수 있을 거 같다\n",
    "\n",
    "high_temp_arr = arr.T[4]\n",
    "print((high_temp_arr == '').sum()) # boolean mask를 이용해서 결측치의 개수를 \n",
    "                                   # 알아보아요 !\n",
    "# 아 , 결측치를 삭제할 거에요 !\n",
    "# boolean indexing을 이용해서 ''가 아닌 최고 기온만 뽑아 내요 !\n",
    "# print(high_temp_arr[high_temp_arr != ''])\n",
    "print(high_temp_arr[high_temp_arr != ''].astype(np.float64).max()) # 39.6\n",
    "# 최고 기온을 알아 냈으니 이걸 이용해서 최고 기온의 날짜를 알아보아요 !\n",
    "\n",
    "high_temp = high_temp_arr[high_temp_arr != ''].astype(np.float64).max()\n",
    "\n",
    "# 최고 기온 ndarray 안에서 우리가 구한 최고 기온에 대해 boolean mask를 만들어 보아요 !\n",
    "print(high_temp_arr == str(high_temp)) # 최대 값만 True고 나머지는 False\n",
    "print(arr.T[0][high_temp_arr == str(high_temp)])"
   ]
  },
  {
   "cell_type": "code",
   "execution_count": 24,
   "metadata": {},
   "outputs": [
    {
     "ename": "NameError",
     "evalue": "name 'empry_low_idx' is not defined",
     "output_type": "error",
     "traceback": [
      "\u001b[0;31m---------------------------------------------------------------------------\u001b[0m",
      "\u001b[0;31mNameError\u001b[0m                                 Traceback (most recent call last)",
      "\u001b[0;32m<ipython-input-24-162d953da03d>\u001b[0m in \u001b[0;36m<module>\u001b[0;34m\u001b[0m\n\u001b[1;32m      8\u001b[0m                   dtype=np.object,delimiter=',',skiprows=1 ,encoding='CP949')\n\u001b[1;32m      9\u001b[0m \u001b[0mempty_low_idx\u001b[0m \u001b[0;34m=\u001b[0m \u001b[0mnp\u001b[0m\u001b[0;34m.\u001b[0m\u001b[0mwhere\u001b[0m\u001b[0;34m(\u001b[0m\u001b[0;34m(\u001b[0m\u001b[0marr\u001b[0m\u001b[0;34m[\u001b[0m\u001b[0;34m:\u001b[0m\u001b[0;34m,\u001b[0m\u001b[0;36m3\u001b[0m\u001b[0;34m]\u001b[0m \u001b[0;34m==\u001b[0m \u001b[0;34m''\u001b[0m\u001b[0;34m)\u001b[0m \u001b[0;34m==\u001b[0m \u001b[0;32mTrue\u001b[0m\u001b[0;34m)\u001b[0m\u001b[0;34m\u001b[0m\u001b[0;34m\u001b[0m\u001b[0m\n\u001b[0;32m---> 10\u001b[0;31m \u001b[0marr\u001b[0m \u001b[0;34m=\u001b[0m \u001b[0mnp\u001b[0m\u001b[0;34m.\u001b[0m\u001b[0mdelete\u001b[0m\u001b[0;34m(\u001b[0m\u001b[0marr\u001b[0m\u001b[0;34m,\u001b[0m \u001b[0mempry_low_idx\u001b[0m\u001b[0;34m,\u001b[0m \u001b[0maxis\u001b[0m \u001b[0;34m==\u001b[0m \u001b[0;36m0\u001b[0m\u001b[0;34m)\u001b[0m\u001b[0;34m\u001b[0m\u001b[0;34m\u001b[0m\u001b[0m\n\u001b[0m\u001b[1;32m     11\u001b[0m \u001b[0mprint\u001b[0m\u001b[0;34m(\u001b[0m\u001b[0marr\u001b[0m\u001b[0;34m)\u001b[0m\u001b[0;34m\u001b[0m\u001b[0;34m\u001b[0m\u001b[0m\n",
      "\u001b[0;31mNameError\u001b[0m: name 'empry_low_idx' is not defined"
     ]
    }
   ],
   "source": [
    "# 문제 2 \n",
    "\n",
    "# 역사적으로 가장 큰 날짜는 몇년 몇월 몇일 인가요 ?!\n",
    "\n",
    "import numpy as np\n",
    "\n",
    "arr = np.loadtxt(\"/Users/mac/notebook_dir/data/seoul.csv\",\n",
    "                  dtype=np.object,delimiter=',',skiprows=1 ,encoding='CP949')\n",
    "empty_low_idx = np.where((arr[:,3] == '') == True)\n",
    "arr = np.delete(arr, empry_low_idx, axis == 0)\n",
    "print(arr)\n"
   ]
  }
 ],
 "metadata": {
  "kernelspec": {
   "display_name": "Python [conda env:data_env] *",
   "language": "python",
   "name": "conda-env-data_env-py"
  },
  "language_info": {
   "codemirror_mode": {
    "name": "ipython",
    "version": 3
   },
   "file_extension": ".py",
   "mimetype": "text/x-python",
   "name": "python",
   "nbconvert_exporter": "python",
   "pygments_lexer": "ipython3",
   "version": "3.7.9"
  }
 },
 "nbformat": 4,
 "nbformat_minor": 4
}
